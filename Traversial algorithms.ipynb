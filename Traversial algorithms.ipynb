{
 "cells": [
  {
   "cell_type": "markdown",
   "metadata": {},
   "source": [
    "# Traversial Algorithm analysis"
   ]
  },
  {
   "cell_type": "markdown",
   "metadata": {},
   "source": [
    "## Data Set (Movie list extracted from json file, this is just a miniature sample data set)"
   ]
  },
  {
   "cell_type": "code",
   "execution_count": 147,
   "metadata": {},
   "outputs": [],
   "source": [
    "d = {'Beetlejuice': {'Comedy': {}, 'Fantasy': {}},\n",
    " 'The Cotton Club': {'Crime': {}, 'Drama': {}, 'Music': {}},\n",
    " 'The Shawshank Redemption': {'Crime': {}, 'Drama': {}},\n",
    " 'Crocodile Dundee': {'Adventure': {}, 'Comedy': {}, 'Crime': {}},\n",
    " 'Valkyrie': {'Drama': {}, 'History': {}, 'Thriller': {}}, 'Comedy': {'Beetlejuice': {},\n",
    "  'Crocodile Dundee': {}},  'Fantasy': {'Beetlejuice': {}},  'Crime': {'The Cotton Club': {},\n",
    "  'The Shawshank Redemption': {}, 'Crocodile Dundee' : {}}, 'Drama': {'The Cotton Club': {},\n",
    "  'The Shawshank Redemption': {},\n",
    "  'Valkyrie': {}}, 'Music': {'The Cotton Club': {}},\n",
    " 'Adventure': {'Crocodile Dundee': {}}, 'History': {'Valkyrie': {}}, 'Thriller': {'Valkyrie': {}}}"
   ]
  },
  {
   "cell_type": "markdown",
   "metadata": {},
   "source": [
    "## To convert the dictionary into a graph with nodes and edges:"
   ]
  },
  {
   "cell_type": "code",
   "execution_count": 148,
   "metadata": {},
   "outputs": [],
   "source": [
    "import networkx as nx\n",
    "import matplotlib.pyplot as plt\n",
    "G = nx.Graph(d)"
   ]
  },
  {
   "cell_type": "code",
   "execution_count": 149,
   "metadata": {},
   "outputs": [
    {
     "data": {
      "image/png": "[encoded data removed]",
      "text/plain": [
       "<Figure size 432x288 with 1 Axes>"
      ]
     },
     "metadata": {},
     "output_type": "display_data"
    }
   ],
   "source": [
    "pos = nx.spring_layout(G, seed=500) \n",
    "edge_labels = nx.get_edge_attributes(G, 'label')\n",
    "nx.draw(G, pos)\n",
    "nx.draw_networkx_edge_labels(G, pos, edge_labels, font_size = 12)\n",
    "nx.draw_networkx_labels(G, pos, font_size = 10)\n",
    "plt.show()"
   ]
  },
  {
   "cell_type": "code",
   "execution_count": 165,
   "metadata": {},
   "outputs": [],
   "source": [
    "from queue import Queue\n",
    "\n",
    "def bfs(dictionary, input_node, target_node):\n",
    "    \n",
    "    # first step is to initialize the empty queue and visited list\n",
    "    visited = []\n",
    "    queue = Queue()\n",
    "    \n",
    "    queue.put(input_node)\n",
    "    visited.append(input_node)\n",
    "    \n",
    "    parent = {}\n",
    "    parent[input_node] = None\n",
    "    \n",
    "    pathfound = False\n",
    "    \n",
    "    while not queue.empty():\n",
    "        a = queue.get()\n",
    "        if a == target_node:\n",
    "            pathfound = True\n",
    "            break\n",
    "    \n",
    "        for i in dictionary[a]:\n",
    "            if i not in visited:\n",
    "                queue.put(i)\n",
    "                parent[i] = a\n",
    "                visited.append(i)\n",
    "    print(visited)  \n",
    "    # to get the path and represent it as output\n",
    "    \n",
    "    path = []\n",
    "    if pathfound:\n",
    "        path.append(target_node)\n",
    "        #print(parent)\n",
    "        while parent[target_node] is not None:\n",
    "            path.append(parent[target_node])\n",
    "            target_node = parent[target_node] \n",
    "        path.reverse()\n",
    "    return path"
   ]
  },
  {
   "cell_type": "code",
   "execution_count": 166,
   "metadata": {},
   "outputs": [
    {
     "name": "stdout",
     "output_type": "stream",
     "text": [
      "['Crocodile Dundee', 'Adventure', 'Comedy', 'Crime', 'Beetlejuice', 'The Cotton Club', 'The Shawshank Redemption', 'Fantasy', 'Drama', 'Music', 'Valkyrie', 'History', 'Thriller']\n"
     ]
    },
    {
     "data": {
      "text/plain": [
       "[]"
      ]
     },
     "execution_count": 166,
     "metadata": {},
     "output_type": "execute_result"
    }
   ],
   "source": [
    "bfs(G,'Crocodile Dundee','Beetlejuice')"
   ]
  },
  {
   "cell_type": "markdown",
   "metadata": {},
   "source": [
    "# Depth first Search Implementation"
   ]
  },
  {
   "cell_type": "code",
   "execution_count": 159,
   "metadata": {},
   "outputs": [
    {
     "name": "stdout",
     "output_type": "stream",
     "text": [
      "Following is the Depth-First Search\n",
      "Crocodile Dundee\n",
      "Adventure\n",
      "Comedy\n",
      "Beetlejuice\n",
      "Fantasy\n",
      "Crime\n",
      "The Cotton Club\n",
      "Drama\n",
      "The Shawshank Redemption\n",
      "Valkyrie\n",
      "History\n",
      "Thriller\n",
      "Music\n"
     ]
    }
   ],
   "source": [
    "visited = set() # Set to keep track of visited nodes of graph.\n",
    "\n",
    "def dfs(visited, graph, node):  #function for dfs \n",
    "    if node not in visited:\n",
    "        print (node)\n",
    "        visited.add(node)\n",
    "        for neighbour in graph[node]:\n",
    "            dfs(visited, graph, neighbour)\n",
    "\n",
    "# Driver Code\n",
    "print(\"Following is the Depth-First Search\")\n",
    "dfs(visited, G, 'Crocodile Dundee')"
   ]
  },
  {
   "cell_type": "code",
   "execution_count": null,
   "metadata": {},
   "outputs": [],
   "source": []
  }
 ],
 "metadata": {
  "kernelspec": {
   "display_name": "Python 3",
   "language": "python",
   "name": "python3"
  },
  "language_info": {
   "codemirror_mode": {
    "name": "ipython",
    "version": 3
   },
   "file_extension": ".py",
   "mimetype": "text/x-python",
   "name": "python",
   "nbconvert_exporter": "python",
   "pygments_lexer": "ipython3",
   "version": "3.7.4"
  }
 },
 "nbformat": 4,
 "nbformat_minor": 2
}
